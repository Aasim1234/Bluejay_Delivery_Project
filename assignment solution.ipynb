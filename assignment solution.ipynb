{
 "cells": [
  {
   "cell_type": "code",
   "execution_count": 23,
   "id": "376e94bc",
   "metadata": {},
   "outputs": [],
   "source": [
    "import pandas as pd"
   ]
  },
  {
   "cell_type": "code",
   "execution_count": 24,
   "id": "e3030085",
   "metadata": {},
   "outputs": [],
   "source": [
    "df = pd.read_csv(\"assignment.csv\")"
   ]
  },
  {
   "cell_type": "code",
   "execution_count": 25,
   "id": "158e9f91",
   "metadata": {},
   "outputs": [
    {
     "data": {
      "text/html": [
       "<div>\n",
       "<style scoped>\n",
       "    .dataframe tbody tr th:only-of-type {\n",
       "        vertical-align: middle;\n",
       "    }\n",
       "\n",
       "    .dataframe tbody tr th {\n",
       "        vertical-align: top;\n",
       "    }\n",
       "\n",
       "    .dataframe thead th {\n",
       "        text-align: right;\n",
       "    }\n",
       "</style>\n",
       "<table border=\"1\" class=\"dataframe\">\n",
       "  <thead>\n",
       "    <tr style=\"text-align: right;\">\n",
       "      <th></th>\n",
       "      <th>Position ID</th>\n",
       "      <th>Position Status</th>\n",
       "      <th>Date</th>\n",
       "      <th>Time In</th>\n",
       "      <th>Time Out</th>\n",
       "      <th>Timecard Hours (as Time)</th>\n",
       "      <th>Pay Cycle Start Date</th>\n",
       "      <th>Pay Cycle End Date</th>\n",
       "      <th>Employee Name</th>\n",
       "      <th>File Number</th>\n",
       "    </tr>\n",
       "  </thead>\n",
       "  <tbody>\n",
       "    <tr>\n",
       "      <th>0</th>\n",
       "      <td>WFS000054</td>\n",
       "      <td>Active</td>\n",
       "      <td>NaN</td>\n",
       "      <td>NaN</td>\n",
       "      <td>NaN</td>\n",
       "      <td>NaN</td>\n",
       "      <td>NaN</td>\n",
       "      <td>NaN</td>\n",
       "      <td>SiWgh, PraGhjEM</td>\n",
       "      <td>54</td>\n",
       "    </tr>\n",
       "    <tr>\n",
       "      <th>1</th>\n",
       "      <td>WFS000065</td>\n",
       "      <td>Active</td>\n",
       "      <td>09-12-2023</td>\n",
       "      <td>10:08:00 AM</td>\n",
       "      <td>01:53:00 PM</td>\n",
       "      <td>03:45</td>\n",
       "      <td>09-10-2023</td>\n",
       "      <td>09/23/2023</td>\n",
       "      <td>REsaXiaWE, XAis</td>\n",
       "      <td>65</td>\n",
       "    </tr>\n",
       "    <tr>\n",
       "      <th>2</th>\n",
       "      <td>WFS000065</td>\n",
       "      <td>Active</td>\n",
       "      <td>09-12-2023</td>\n",
       "      <td>02:23:00 PM</td>\n",
       "      <td>07:02:00 PM</td>\n",
       "      <td>04:39</td>\n",
       "      <td>09-10-2023</td>\n",
       "      <td>09/23/2023</td>\n",
       "      <td>REsaXiaWE, XAis</td>\n",
       "      <td>65</td>\n",
       "    </tr>\n",
       "    <tr>\n",
       "      <th>3</th>\n",
       "      <td>WFS000065</td>\n",
       "      <td>Active</td>\n",
       "      <td>09/13/2023</td>\n",
       "      <td>10:08:00 AM</td>\n",
       "      <td>02:20:00 PM</td>\n",
       "      <td>04:12</td>\n",
       "      <td>09-10-2023</td>\n",
       "      <td>09/23/2023</td>\n",
       "      <td>REsaXiaWE, XAis</td>\n",
       "      <td>65</td>\n",
       "    </tr>\n",
       "    <tr>\n",
       "      <th>4</th>\n",
       "      <td>WFS000065</td>\n",
       "      <td>Active</td>\n",
       "      <td>09/13/2023</td>\n",
       "      <td>02:50:00 PM</td>\n",
       "      <td>08:44:00 PM</td>\n",
       "      <td>05:54</td>\n",
       "      <td>09-10-2023</td>\n",
       "      <td>09/23/2023</td>\n",
       "      <td>REsaXiaWE, XAis</td>\n",
       "      <td>65</td>\n",
       "    </tr>\n",
       "  </tbody>\n",
       "</table>\n",
       "</div>"
      ],
      "text/plain": [
       "  Position ID Position Status        Date      Time In     Time Out  \\\n",
       "0   WFS000054          Active         NaN          NaN          NaN   \n",
       "1   WFS000065          Active  09-12-2023  10:08:00 AM  01:53:00 PM   \n",
       "2   WFS000065          Active  09-12-2023  02:23:00 PM  07:02:00 PM   \n",
       "3   WFS000065          Active  09/13/2023  10:08:00 AM  02:20:00 PM   \n",
       "4   WFS000065          Active  09/13/2023  02:50:00 PM  08:44:00 PM   \n",
       "\n",
       "  Timecard Hours (as Time) Pay Cycle Start Date Pay Cycle End Date  \\\n",
       "0                      NaN                  NaN                NaN   \n",
       "1                    03:45           09-10-2023         09/23/2023   \n",
       "2                    04:39           09-10-2023         09/23/2023   \n",
       "3                    04:12           09-10-2023         09/23/2023   \n",
       "4                    05:54           09-10-2023         09/23/2023   \n",
       "\n",
       "     Employee Name  File Number  \n",
       "0  SiWgh, PraGhjEM           54  \n",
       "1  REsaXiaWE, XAis           65  \n",
       "2  REsaXiaWE, XAis           65  \n",
       "3  REsaXiaWE, XAis           65  \n",
       "4  REsaXiaWE, XAis           65  "
      ]
     },
     "execution_count": 25,
     "metadata": {},
     "output_type": "execute_result"
    }
   ],
   "source": [
    "df.head()"
   ]
  },
  {
   "cell_type": "code",
   "execution_count": 5,
   "id": "eb5746e9",
   "metadata": {},
   "outputs": [],
   "source": [
    "# Replace the column name 'Time' with 'Date'\n",
    "#df.rename(columns={'Time': 'Date'}, inplace=True)\n"
   ]
  },
  {
   "cell_type": "code",
   "execution_count": 28,
   "id": "9174ba5c",
   "metadata": {},
   "outputs": [],
   "source": [
    "df.sort_values(['Employee Name', 'Date'], inplace=True)\n"
   ]
  },
  {
   "cell_type": "code",
   "execution_count": 29,
   "id": "7450fdf2",
   "metadata": {},
   "outputs": [],
   "source": [
    "consecutive_days = 1\n",
    "previous_employee = None\n",
    "previous_date = None"
   ]
  },
  {
   "cell_type": "code",
   "execution_count": 30,
   "id": "06abf32a",
   "metadata": {},
   "outputs": [],
   "source": [
    "for index, row in df.iterrows():\n",
    "    employee_name = row['Employee Name']\n",
    "    current_date = pd.to_datetime(row['Date'])\n",
    "    \n",
    "    if previous_employee == employee_name:\n",
    "        date_difference = (current_date - previous_date).days\n",
    "        if date_difference == 1:\n",
    "            consecutive_days += 1\n",
    "        else:\n",
    "            consecutive_days = 1\n",
    "    else:\n",
    "        consecutive_days = 1\n",
    "\n",
    "    if consecutive_days == 7:\n",
    "        print(f\"{employee_name} has worked for 7 consecutive days.\")\n",
    "    \n",
    "    previous_employee = employee_name\n",
    "    previous_date = current_date"
   ]
  },
  {
   "cell_type": "code",
   "execution_count": 31,
   "id": "64040fef",
   "metadata": {},
   "outputs": [
    {
     "data": {
      "text/html": [
       "<div>\n",
       "<style scoped>\n",
       "    .dataframe tbody tr th:only-of-type {\n",
       "        vertical-align: middle;\n",
       "    }\n",
       "\n",
       "    .dataframe tbody tr th {\n",
       "        vertical-align: top;\n",
       "    }\n",
       "\n",
       "    .dataframe thead th {\n",
       "        text-align: right;\n",
       "    }\n",
       "</style>\n",
       "<table border=\"1\" class=\"dataframe\">\n",
       "  <thead>\n",
       "    <tr style=\"text-align: right;\">\n",
       "      <th></th>\n",
       "      <th>Position ID</th>\n",
       "      <th>Position Status</th>\n",
       "      <th>Date</th>\n",
       "      <th>Time In</th>\n",
       "      <th>Time Out</th>\n",
       "      <th>Timecard Hours (as Time)</th>\n",
       "      <th>Pay Cycle Start Date</th>\n",
       "      <th>Pay Cycle End Date</th>\n",
       "      <th>Employee Name</th>\n",
       "      <th>File Number</th>\n",
       "    </tr>\n",
       "  </thead>\n",
       "  <tbody>\n",
       "    <tr>\n",
       "      <th>1463</th>\n",
       "      <td>WFS000588</td>\n",
       "      <td>Active</td>\n",
       "      <td>09/13/2023</td>\n",
       "      <td>10:40:00 AM</td>\n",
       "      <td>03:00:00 PM</td>\n",
       "      <td>04:20</td>\n",
       "      <td>09-10-2023</td>\n",
       "      <td>09/23/2023</td>\n",
       "      <td>AGeX, WaMhaW REGerM PeWa</td>\n",
       "      <td>588</td>\n",
       "    </tr>\n",
       "  </tbody>\n",
       "</table>\n",
       "</div>"
      ],
      "text/plain": [
       "     Position ID Position Status        Date      Time In     Time Out  \\\n",
       "1463   WFS000588          Active  09/13/2023  10:40:00 AM  03:00:00 PM   \n",
       "\n",
       "     Timecard Hours (as Time) Pay Cycle Start Date Pay Cycle End Date  \\\n",
       "1463                    04:20           09-10-2023         09/23/2023   \n",
       "\n",
       "                 Employee Name  File Number  \n",
       "1463  AGeX, WaMhaW REGerM PeWa          588  "
      ]
     },
     "execution_count": 31,
     "metadata": {},
     "output_type": "execute_result"
    }
   ],
   "source": [
    "df.head(1)"
   ]
  },
  {
   "cell_type": "code",
   "execution_count": 32,
   "id": "6aa888d6",
   "metadata": {},
   "outputs": [
    {
     "name": "stdout",
     "output_type": "stream",
     "text": [
      "ZaCEra, Edward has worked for 7 consecutive days.\n",
      "ZaCEra, Edward has worked for 7 consecutive days.\n",
      "ZaCEra, Edward has worked for 7 consecutive days.\n",
      "ZaCEra, Edward has worked for 7 consecutive days.\n",
      "ZaCEra, Edward has worked for 7 consecutive days.\n",
      "ZaCEra, Edward has worked for 7 consecutive days.\n",
      "ZaCEra, Edward has worked for 7 consecutive days.\n",
      "ZaCEra, Edward has worked for 7 consecutive days.\n",
      "ZaCEra, Edward has worked for 7 consecutive days.\n",
      "ZaCEra, Edward has worked for 7 consecutive days.\n",
      "ZaCEra, Edward has worked for 7 consecutive days.\n",
      "ZaCEra, Edward has worked for 7 consecutive days.\n",
      "ZaCEra, Edward has worked for 7 consecutive days.\n",
      "ZaCEra, Edward has worked for 7 consecutive days.\n"
     ]
    }
   ],
   "source": [
    "for Employee in employee_name :\n",
    "    print(f\"{employee_name} has worked for 7 consecutive days.\")"
   ]
  },
  {
   "cell_type": "code",
   "execution_count": 33,
   "id": "e6fda460",
   "metadata": {},
   "outputs": [
    {
     "data": {
      "text/html": [
       "<div>\n",
       "<style scoped>\n",
       "    .dataframe tbody tr th:only-of-type {\n",
       "        vertical-align: middle;\n",
       "    }\n",
       "\n",
       "    .dataframe tbody tr th {\n",
       "        vertical-align: top;\n",
       "    }\n",
       "\n",
       "    .dataframe thead th {\n",
       "        text-align: right;\n",
       "    }\n",
       "</style>\n",
       "<table border=\"1\" class=\"dataframe\">\n",
       "  <thead>\n",
       "    <tr style=\"text-align: right;\">\n",
       "      <th></th>\n",
       "      <th>Position ID</th>\n",
       "      <th>Position Status</th>\n",
       "      <th>Date</th>\n",
       "      <th>Time In</th>\n",
       "      <th>Time Out</th>\n",
       "      <th>Timecard Hours (as Time)</th>\n",
       "      <th>Pay Cycle Start Date</th>\n",
       "      <th>Pay Cycle End Date</th>\n",
       "      <th>Employee Name</th>\n",
       "      <th>File Number</th>\n",
       "    </tr>\n",
       "  </thead>\n",
       "  <tbody>\n",
       "    <tr>\n",
       "      <th>726</th>\n",
       "      <td>WFS000477</td>\n",
       "      <td>Active</td>\n",
       "      <td>09/20/2023</td>\n",
       "      <td>04:00:00 PM</td>\n",
       "      <td>05:43:00 PM</td>\n",
       "      <td>01:43</td>\n",
       "      <td>09-10-2023</td>\n",
       "      <td>09/23/2023</td>\n",
       "      <td>ZaCEra, Edward</td>\n",
       "      <td>477</td>\n",
       "    </tr>\n",
       "  </tbody>\n",
       "</table>\n",
       "</div>"
      ],
      "text/plain": [
       "    Position ID Position Status        Date      Time In     Time Out  \\\n",
       "726   WFS000477          Active  09/20/2023  04:00:00 PM  05:43:00 PM   \n",
       "\n",
       "    Timecard Hours (as Time) Pay Cycle Start Date Pay Cycle End Date  \\\n",
       "726                    01:43           09-10-2023         09/23/2023   \n",
       "\n",
       "      Employee Name  File Number  \n",
       "726  ZaCEra, Edward          477  "
      ]
     },
     "execution_count": 33,
     "metadata": {},
     "output_type": "execute_result"
    }
   ],
   "source": [
    "df.tail(1)"
   ]
  },
  {
   "cell_type": "code",
   "execution_count": 34,
   "id": "1245091b",
   "metadata": {},
   "outputs": [],
   "source": [
    "df.sort_values(['Employee Name', 'Date', 'Time In'], inplace=True)"
   ]
  },
  {
   "cell_type": "code",
   "execution_count": 35,
   "id": "10130b32",
   "metadata": {},
   "outputs": [],
   "source": [
    "consecutive_shifts = 0\n",
    "previous_employee = None\n",
    "previous_end_time = None"
   ]
  },
  {
   "cell_type": "code",
   "execution_count": 36,
   "id": "5fbe4101",
   "metadata": {},
   "outputs": [],
   "source": [
    "employees_with_criteria = []"
   ]
  },
  {
   "cell_type": "code",
   "execution_count": 37,
   "id": "58d354dc",
   "metadata": {},
   "outputs": [],
   "source": [
    "for index, row in df.iterrows():\n",
    "    employee_name = row['Employee Name']\n",
    "    start_time = pd.to_datetime(row['Time In'])\n",
    "    \n",
    "    if previous_employee == employee_name:\n",
    "        time_between_shifts = (start_time - previous_end_time).total_seconds() / 3600  # in hours\n",
    "        if 1 < time_between_shifts < 10:\n",
    "            consecutive_shifts += 1\n",
    "            if consecutive_shifts == 1:\n",
    "                employees_with_criteria.append(employee_name)\n",
    "        else:\n",
    "            consecutive_shifts = 0\n",
    "    else:\n",
    "        consecutive_shifts = 0\n",
    "\n",
    "    previous_employee = employee_name\n",
    "    previous_end_time = pd.to_datetime(row['Time Out'])"
   ]
  },
  {
   "cell_type": "code",
   "execution_count": 38,
   "id": "4ccb1c4a",
   "metadata": {},
   "outputs": [
    {
     "name": "stdout",
     "output_type": "stream",
     "text": [
      "AGeX, WaMhaW REGerM PeWa has shifts with less than 10 hours but more than 1 hour between them.\n",
      "AXvarez, Edgar has shifts with less than 10 hours but more than 1 hour between them.\n",
      "AXvarez, Edgar has shifts with less than 10 hours but more than 1 hour between them.\n",
      "AXvarez, Edgar has shifts with less than 10 hours but more than 1 hour between them.\n",
      "CAevas ZavaXa, JErge XAis has shifts with less than 10 hours but more than 1 hour between them.\n",
      "CAevas ZavaXa, JErge XAis has shifts with less than 10 hours but more than 1 hour between them.\n",
      "CEMMa, Jessica has shifts with less than 10 hours but more than 1 hour between them.\n",
      "CEMMa, Jessica has shifts with less than 10 hours but more than 1 hour between them.\n",
      "CaMaXaWE, CeghaW has shifts with less than 10 hours but more than 1 hour between them.\n",
      "CaMaXaWE, CeghaW has shifts with less than 10 hours but more than 1 hour between them.\n",
      "CaXdEWadE, AXfEWsE has shifts with less than 10 hours but more than 1 hour between them.\n",
      "CaraGiXXa, AWMhEWy has shifts with less than 10 hours but more than 1 hour between them.\n",
      "Caxies, MerreXX has shifts with less than 10 hours but more than 1 hour between them.\n",
      "Caxies, MerreXX has shifts with less than 10 hours but more than 1 hour between them.\n",
      "CesiWa CEreWE, KeviW FaGiaW has shifts with less than 10 hours but more than 1 hour between them.\n",
      "ChaCErE, HEXger CarMiWez has shifts with less than 10 hours but more than 1 hour between them.\n",
      "CiGriaW DeXgadE, EXeWa S has shifts with less than 10 hours but more than 1 hour between them.\n",
      "DECiWgAez AviWa, CigAeX AWgeX has shifts with less than 10 hours but more than 1 hour between them.\n",
      "DECiWgAez AviWa, CigAeX AWgeX has shifts with less than 10 hours but more than 1 hour between them.\n",
      "De XEs SaWMEs, JEseph XAis has shifts with less than 10 hours but more than 1 hour between them.\n",
      "DeXgadiXXE REdarMe, ChrisMiaW S has shifts with less than 10 hours but more than 1 hour between them.\n",
      "EXivares, FeXCaW has shifts with less than 10 hours but more than 1 hour between them.\n",
      "EXivares, FeXCaW has shifts with less than 10 hours but more than 1 hour between them.\n",
      "ErMiz, AGigaiX has shifts with less than 10 hours but more than 1 hour between them.\n",
      "ErMiz, AGigaiX has shifts with less than 10 hours but more than 1 hour between them.\n",
      "FaGiaW CiraWda, JEse has shifts with less than 10 hours but more than 1 hour between them.\n",
      "GaWks, GryaW has shifts with less than 10 hours but more than 1 hour between them.\n",
      "GaWks, GryaW has shifts with less than 10 hours but more than 1 hour between them.\n",
      "HAWMer, ViWceWM De PaAX has shifts with less than 10 hours but more than 1 hour between them.\n",
      "HaCiXMEW, DeaWMe DevEW has shifts with less than 10 hours but more than 1 hour between them.\n",
      "HaCiXMEW, DeaWMe DevEW has shifts with less than 10 hours but more than 1 hour between them.\n",
      "JerEWiCE CEraXes, CarXEs D has shifts with less than 10 hours but more than 1 hour between them.\n",
      "Merrazas, GriaW has shifts with less than 10 hours but more than 1 hour between them.\n",
      "MraW, WiXXiaC Ha has shifts with less than 10 hours but more than 1 hour between them.\n",
      "MraW, WiXXiaC Ha has shifts with less than 10 hours but more than 1 hour between them.\n",
      "PaAXE, KyXe has shifts with less than 10 hours but more than 1 hour between them.\n",
      "PaAXE, KyXe has shifts with less than 10 hours but more than 1 hour between them.\n",
      "REdrigAez, GraWdEW AWgeX has shifts with less than 10 hours but more than 1 hour between them.\n",
      "REdrigAez, GraWdEW AWgeX has shifts with less than 10 hours but more than 1 hour between them.\n",
      "REsaXiaWE, XAis has shifts with less than 10 hours but more than 1 hour between them.\n",
      "SMrickXaWd, REdWey EAgeWe has shifts with less than 10 hours but more than 1 hour between them.\n",
      "SiWgh, JaspreeM has shifts with less than 10 hours but more than 1 hour between them.\n",
      "SiWgh, MarAWpreeM has shifts with less than 10 hours but more than 1 hour between them.\n",
      "Sparks, KeWWeMh has shifts with less than 10 hours but more than 1 hour between them.\n",
      "VaXderraCa CasMiXXE, Escar FaGiaW has shifts with less than 10 hours but more than 1 hour between them.\n",
      "ViXXa, AXfredE AieXXE has shifts with less than 10 hours but more than 1 hour between them.\n",
      "ViXXa, AXfredE AieXXE has shifts with less than 10 hours but more than 1 hour between them.\n",
      "XariEs XaWdaverde, XAis ErWesME has shifts with less than 10 hours but more than 1 hour between them.\n",
      "XariEs XaWdaverde, XAis ErWesME has shifts with less than 10 hours but more than 1 hour between them.\n",
      "Xee, XaCar has shifts with less than 10 hours but more than 1 hour between them.\n",
      "Xee, XaCar has shifts with less than 10 hours but more than 1 hour between them.\n",
      "ZaCEra, Edward has shifts with less than 10 hours but more than 1 hour between them.\n"
     ]
    }
   ],
   "source": [
    "for employee in employees_with_criteria:\n",
    "    print(f\"{employee} has shifts with less than 10 hours but more than 1 hour between them.\")"
   ]
  },
  {
   "cell_type": "code",
   "execution_count": 39,
   "id": "a1401f64",
   "metadata": {},
   "outputs": [],
   "source": [
    "long_shifts_df = df[(pd.to_datetime(df['Time In']) - pd.to_datetime(df['Time Out'])).dt.total_seconds() / 3600 > 14]\n"
   ]
  },
  {
   "cell_type": "code",
   "execution_count": 40,
   "id": "d750dcc1",
   "metadata": {},
   "outputs": [],
   "source": [
    "employees_with_long_shifts = set(long_shifts_df['Employee Name'])"
   ]
  },
  {
   "cell_type": "code",
   "execution_count": 41,
   "id": "eef2c459",
   "metadata": {},
   "outputs": [
    {
     "name": "stdout",
     "output_type": "stream",
     "text": [
      "WiXXiaCs, MyrreXX has worked for more than 14 hours in a single shift.\n",
      "ErEpeza, JEvaW has worked for more than 14 hours in a single shift.\n",
      "CEreira Jr, JEse has worked for more than 14 hours in a single shift.\n",
      "GAeWdia, JAaW CarXEs has worked for more than 14 hours in a single shift.\n",
      "XEpez WAWez, XAis has worked for more than 14 hours in a single shift.\n",
      "SiWgh, CaWpreeM has worked for more than 14 hours in a single shift.\n",
      "CcRAWWeX, REWaXd Xee has worked for more than 14 hours in a single shift.\n",
      "HAWMer, ViWceWM De PaAX has worked for more than 14 hours in a single shift.\n",
      "SaWchez, ArWAXfE has worked for more than 14 hours in a single shift.\n",
      "MAake, CasiaWE has worked for more than 14 hours in a single shift.\n",
      "ArevaXE, JEse has worked for more than 14 hours in a single shift.\n",
      "FeXix, XeEWeX has worked for more than 14 hours in a single shift.\n",
      "Arias, FeXipe has worked for more than 14 hours in a single shift.\n",
      "DeXgadiXXE REdarMe, ChrisMiaW S has worked for more than 14 hours in a single shift.\n",
      "SiWgh, JaspreeM has worked for more than 14 hours in a single shift.\n",
      "VasqAez, AXfredE has worked for more than 14 hours in a single shift.\n",
      "Xee, XaCar has worked for more than 14 hours in a single shift.\n",
      "GAMierrez, PedrE CigAeX has worked for more than 14 hours in a single shift.\n",
      "ErEzcE, SaAX has worked for more than 14 hours in a single shift.\n",
      "AXcEcer, ECar JesAs has worked for more than 14 hours in a single shift.\n",
      "REdrigAez, PedrE has worked for more than 14 hours in a single shift.\n",
      "IWGEAa, JeffersEW has worked for more than 14 hours in a single shift.\n"
     ]
    }
   ],
   "source": [
    "for employee_name in employees_with_long_shifts:\n",
    "    print(f\"{employee_name} has worked for more than 14 hours in a single shift.\")"
   ]
  },
  {
   "cell_type": "code",
   "execution_count": null,
   "id": "099142c4",
   "metadata": {},
   "outputs": [],
   "source": []
  }
 ],
 "metadata": {
  "kernelspec": {
   "display_name": "Python 3 (ipykernel)",
   "language": "python",
   "name": "python3"
  },
  "language_info": {
   "codemirror_mode": {
    "name": "ipython",
    "version": 3
   },
   "file_extension": ".py",
   "mimetype": "text/x-python",
   "name": "python",
   "nbconvert_exporter": "python",
   "pygments_lexer": "ipython3",
   "version": "3.11.3"
  }
 },
 "nbformat": 4,
 "nbformat_minor": 5
}
